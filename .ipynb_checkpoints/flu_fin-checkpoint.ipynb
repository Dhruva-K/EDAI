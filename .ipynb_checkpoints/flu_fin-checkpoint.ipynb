{
 "cells": [
  {
   "cell_type": "code",
   "execution_count": 6,
   "metadata": {},
   "outputs": [
    {
     "name": "stdout",
     "output_type": "stream",
     "text": [
      "[[9.99824558e-01 1.26411647e-05 9.14933080e-05 7.10640590e-05\n",
      "  2.43012672e-07]]\n",
      "['Common Cold']\n"
     ]
    },
    {
     "name": "stderr",
     "output_type": "stream",
     "text": [
      "C:\\Users\\dhruv\\anaconda3\\lib\\site-packages\\sklearn\\linear_model\\_logistic.py:762: ConvergenceWarning: lbfgs failed to converge (status=1):\n",
      "STOP: TOTAL NO. of ITERATIONS REACHED LIMIT.\n",
      "\n",
      "Increase the number of iterations (max_iter) or scale the data as shown in:\n",
      "    https://scikit-learn.org/stable/modules/preprocessing.html\n",
      "Please also refer to the documentation for alternative solver options:\n",
      "    https://scikit-learn.org/stable/modules/linear_model.html#logistic-regression\n",
      "  n_iter_i = _check_optimize_result(\n"
     ]
    }
   ],
   "source": [
    "import pandas as pd\n",
    "import numpy as np\n",
    "import matplotlib.pyplot as plt\n",
    "import seaborn as sns\n",
    "import pickle\n",
    "\n",
    "df=pd.read_csv(r'C:\\Users\\dhruv\\Downloads\\datasets\\flu.csv')\n",
    "\n",
    "\n",
    "from sklearn.preprocessing import LabelEncoder\n",
    "le=LabelEncoder()\n",
    "\n",
    "df=df.drop(columns=['Unnamed: 0', 'Symptom_12', 'Symptom_13',\n",
    "       'Symptom_14', 'Symptom_15', 'Symptom_16', 'Symptom_17'],axis=1)\n",
    "\n",
    "df.fillna(\"None\",inplace=True)\n",
    "df=df.drop(columns=\"Type\",axis =1)\n",
    "d=df[\"Disease\"]\n",
    "le.fit(df.values.flatten())\n",
    "df=pd.DataFrame(columns=df.columns, data=le.transform(df.values.flatten()).reshape(df.shape))\n",
    "df[\"Disease\"]=d\n",
    "\n",
    "df1=df.sample(frac=1)\n",
    "\n",
    "x=df1.iloc[:,1:]\n",
    "y=df1.iloc[:,0]\n",
    "\n",
    "from sklearn.model_selection import train_test_split\n",
    "from sklearn.linear_model import LogisticRegression\n",
    "from sklearn.ensemble import RandomForestClassifier\n",
    "from sklearn.metrics import accuracy_score,classification_report,confusion_matrix\n",
    "from sklearn.feature_selection import SelectKBest\n",
    "from sklearn.feature_selection import chi2\n",
    "x_train,x_test,y_train,y_test = train_test_split(x,y,test_size=0.3,random_state=1)\n",
    "\n",
    "mod0=LogisticRegression()\n",
    "mod0.fit(x_train,y_train)\n",
    "\n",
    "pickle.dump(mod0, open('flu.pkl','wb'))\n",
    "\n",
    "model = pickle.load(open('flu.pkl','rb'))\n",
    "\n",
    "\n",
    "p = model.predict([[7,4,10,8,12,11,27,16,20,28,22]])\n",
    "\n",
    "print(model.predict_proba([[7,4,10,8,12,11,27,16,20,28,22]]))\n",
    "print(p)"
   ]
  },
  {
   "cell_type": "code",
   "execution_count": null,
   "metadata": {},
   "outputs": [],
   "source": []
  }
 ],
 "metadata": {
  "kernelspec": {
   "display_name": "Python 3",
   "language": "python",
   "name": "python3"
  },
  "language_info": {
   "codemirror_mode": {
    "name": "ipython",
    "version": 3
   },
   "file_extension": ".py",
   "mimetype": "text/x-python",
   "name": "python",
   "nbconvert_exporter": "python",
   "pygments_lexer": "ipython3",
   "version": "3.8.5"
  }
 },
 "nbformat": 4,
 "nbformat_minor": 4
}
